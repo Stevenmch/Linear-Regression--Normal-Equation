{
 "cells": [
  {
   "cell_type": "markdown",
   "metadata": {},
   "source": [
    "# Linear Regression - Normal Equation"
   ]
  },
  {
   "cell_type": "code",
   "execution_count": 19,
   "metadata": {},
   "outputs": [],
   "source": [
    "# Common imports\n",
    "import numpy as np"
   ]
  },
  {
   "cell_type": "code",
   "execution_count": 14,
   "metadata": {
    "tags": []
   },
   "outputs": [],
   "source": [
    "# Data\n",
    "car_price = [5, 6, 7, 8, 9, 10]\n",
    "units_sold = [8.5, 8, 7.5, 7, 6.5, 6]"
   ]
  },
  {
   "cell_type": "code",
   "execution_count": 15,
   "metadata": {
    "tags": []
   },
   "outputs": [],
   "source": [
    "# Data as array and as column vector\n",
    "price_array = np.array(car_price).reshape(-1, 1)\n",
    "units_array = np.array(units_sold).reshape(-1, 1)"
   ]
  },
  {
   "cell_type": "code",
   "execution_count": 16,
   "metadata": {
    "tags": []
   },
   "outputs": [],
   "source": [
    "# We need to add zero columns to each instance (price_array)\n",
    "X_matrix = np.c_[np.ones((6, 1)), price_array]"
   ]
  },
  {
   "source": [
    "## Now, we have all parameters, X Matrix and Y that is units_array the vector of target value and we only have to apply the Normal Equation in code.\n",
    "![title](Captura.PNG)"
   ],
   "cell_type": "markdown",
   "metadata": {}
  },
  {
   "cell_type": "code",
   "execution_count": 17,
   "metadata": {},
   "outputs": [],
   "source": [
    "# Applying the Normal Equation \n",
    "theta_best = np.linalg.inv(X_matrix.T.dot(X_matrix)).dot(X_matrix.T).dot(units_array)"
   ]
  },
  {
   "source": [
    "## Now we have all model's parameter vector"
   ],
   "cell_type": "markdown",
   "metadata": {}
  },
  {
   "cell_type": "code",
   "execution_count": 18,
   "metadata": {
    "tags": []
   },
   "outputs": [
    {
     "output_type": "stream",
     "name": "stdout",
     "text": "[[3.9]]\n"
    }
   ],
   "source": [
    "# Predictions\n",
    "X_value = np.array([14.2])\n",
    "X_new = np.c_[np.ones((1, 1)), X_value]\n",
    "y_predict = X_new.dot(theta_best)\n",
    "print(y_predict)"
   ]
  }
 ],
 "metadata": {
  "language_info": {
   "codemirror_mode": {
    "name": "ipython",
    "version": 3
   },
   "file_extension": ".py",
   "mimetype": "text/x-python",
   "name": "python",
   "nbconvert_exporter": "python",
   "pygments_lexer": "ipython3",
   "version": "3.7.7-final"
  },
  "orig_nbformat": 2,
  "kernelspec": {
   "name": "python_defaultSpec_1600729549054",
   "display_name": "Python 3.7.7 64-bit ('Platzi - FundamentosAL': conda)"
  }
 },
 "nbformat": 4,
 "nbformat_minor": 2
}